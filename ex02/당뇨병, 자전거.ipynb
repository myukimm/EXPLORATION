{
  "nbformat": 4,
  "nbformat_minor": 0,
  "metadata": {
    "colab": {
      "name": "exp2.ipynb",
      "provenance": [],
      "collapsed_sections": []
    },
    "kernelspec": {
      "name": "python3",
      "display_name": "Python 3"
    },
    "language_info": {
      "name": "python"
    }
  },
  "cells": [
    {
      "cell_type": "markdown",
      "source": [
        "# Project 1"
      ],
      "metadata": {
        "id": "-moYkIF736sl"
      }
    },
    {
      "cell_type": "markdown",
      "source": [
        "# 데이터 가져오기"
      ],
      "metadata": {
        "id": "ivEzu9vhadUX"
      }
    },
    {
      "cell_type": "code",
      "execution_count": 509,
      "metadata": {
        "id": "BATg73rWaULO"
      },
      "outputs": [],
      "source": [
        "from sklearn.datasets import load_diabetes\n",
        "import pandas as pd\n",
        "\n",
        "diabetes=load_diabetes()"
      ]
    },
    {
      "cell_type": "code",
      "source": [
        "diabetes.keys() # 키가 뭐들어 있는 지 확인"
      ],
      "metadata": {
        "colab": {
          "base_uri": "https://localhost:8080/"
        },
        "id": "hrBKzfmza84k",
        "outputId": "3b5f1965-8568-49a1-9837-b564e49002ba"
      },
      "execution_count": 510,
      "outputs": [
        {
          "output_type": "execute_result",
          "data": {
            "text/plain": [
              "dict_keys(['data', 'target', 'frame', 'DESCR', 'feature_names', 'data_filename', 'target_filename', 'data_module'])"
            ]
          },
          "metadata": {},
          "execution_count": 510
        }
      ]
    },
    {
      "cell_type": "code",
      "source": [
        "diabetes_data = diabetes.data\n",
        "diabetes_data.shape # feature가 몇 개 들어있는 지 확인"
      ],
      "metadata": {
        "colab": {
          "base_uri": "https://localhost:8080/"
        },
        "id": "jMAlf8Y8a87Y",
        "outputId": "5a65f48b-181a-4709-9f55-e95e1afe2b2a"
      },
      "execution_count": 511,
      "outputs": [
        {
          "output_type": "execute_result",
          "data": {
            "text/plain": [
              "(442, 10)"
            ]
          },
          "metadata": {},
          "execution_count": 511
        }
      ]
    },
    {
      "cell_type": "code",
      "source": [
        "diabetes_data[0]"
      ],
      "metadata": {
        "colab": {
          "base_uri": "https://localhost:8080/"
        },
        "id": "j6t15AzRoWDt",
        "outputId": "15ca47cc-b3fa-4f0d-bfe1-6a1c7cb3ae86"
      },
      "execution_count": 512,
      "outputs": [
        {
          "output_type": "execute_result",
          "data": {
            "text/plain": [
              "array([ 0.03807591,  0.05068012,  0.06169621,  0.02187235, -0.0442235 ,\n",
              "       -0.03482076, -0.04340085, -0.00259226,  0.01990842, -0.01764613])"
            ]
          },
          "metadata": {},
          "execution_count": 512
        }
      ]
    },
    {
      "cell_type": "code",
      "source": [
        "diabetes.feature_names"
      ],
      "metadata": {
        "colab": {
          "base_uri": "https://localhost:8080/"
        },
        "id": "GvWncc46pg7S",
        "outputId": "f03a4732-54f9-40bb-82f4-bc64511248c7"
      },
      "execution_count": 513,
      "outputs": [
        {
          "output_type": "execute_result",
          "data": {
            "text/plain": [
              "['age', 'sex', 'bmi', 'bp', 's1', 's2', 's3', 's4', 's5', 's6']"
            ]
          },
          "metadata": {},
          "execution_count": 513
        }
      ]
    },
    {
      "cell_type": "markdown",
      "source": [
        "와 feature가 10개나 있다. 선형회귀를 이용해야겠다."
      ],
      "metadata": {
        "id": "p485ZtBTcAqg"
      }
    },
    {
      "cell_type": "code",
      "source": [
        "#시각화 하기\n",
        "\n",
        "diabetes_df = pd.DataFrame(data = diabetes.data, columns = diabetes.feature_names)\n",
        "diabetes_df"
      ],
      "metadata": {
        "colab": {
          "base_uri": "https://localhost:8080/",
          "height": 424
        },
        "id": "vqAn4ZUkas9B",
        "outputId": "e99a81fc-23f6-410b-b33f-e4193db6ee26"
      },
      "execution_count": 514,
      "outputs": [
        {
          "output_type": "execute_result",
          "data": {
            "text/plain": [
              "          age       sex       bmi        bp        s1        s2        s3  \\\n",
              "0    0.038076  0.050680  0.061696  0.021872 -0.044223 -0.034821 -0.043401   \n",
              "1   -0.001882 -0.044642 -0.051474 -0.026328 -0.008449 -0.019163  0.074412   \n",
              "2    0.085299  0.050680  0.044451 -0.005671 -0.045599 -0.034194 -0.032356   \n",
              "3   -0.089063 -0.044642 -0.011595 -0.036656  0.012191  0.024991 -0.036038   \n",
              "4    0.005383 -0.044642 -0.036385  0.021872  0.003935  0.015596  0.008142   \n",
              "..        ...       ...       ...       ...       ...       ...       ...   \n",
              "437  0.041708  0.050680  0.019662  0.059744 -0.005697 -0.002566 -0.028674   \n",
              "438 -0.005515  0.050680 -0.015906 -0.067642  0.049341  0.079165 -0.028674   \n",
              "439  0.041708  0.050680 -0.015906  0.017282 -0.037344 -0.013840 -0.024993   \n",
              "440 -0.045472 -0.044642  0.039062  0.001215  0.016318  0.015283 -0.028674   \n",
              "441 -0.045472 -0.044642 -0.073030 -0.081414  0.083740  0.027809  0.173816   \n",
              "\n",
              "           s4        s5        s6  \n",
              "0   -0.002592  0.019908 -0.017646  \n",
              "1   -0.039493 -0.068330 -0.092204  \n",
              "2   -0.002592  0.002864 -0.025930  \n",
              "3    0.034309  0.022692 -0.009362  \n",
              "4   -0.002592 -0.031991 -0.046641  \n",
              "..        ...       ...       ...  \n",
              "437 -0.002592  0.031193  0.007207  \n",
              "438  0.034309 -0.018118  0.044485  \n",
              "439 -0.011080 -0.046879  0.015491  \n",
              "440  0.026560  0.044528 -0.025930  \n",
              "441 -0.039493 -0.004220  0.003064  \n",
              "\n",
              "[442 rows x 10 columns]"
            ],
            "text/html": [
              "\n",
              "  <div id=\"df-a9b67e67-4131-4c3b-a730-e36150830c60\">\n",
              "    <div class=\"colab-df-container\">\n",
              "      <div>\n",
              "<style scoped>\n",
              "    .dataframe tbody tr th:only-of-type {\n",
              "        vertical-align: middle;\n",
              "    }\n",
              "\n",
              "    .dataframe tbody tr th {\n",
              "        vertical-align: top;\n",
              "    }\n",
              "\n",
              "    .dataframe thead th {\n",
              "        text-align: right;\n",
              "    }\n",
              "</style>\n",
              "<table border=\"1\" class=\"dataframe\">\n",
              "  <thead>\n",
              "    <tr style=\"text-align: right;\">\n",
              "      <th></th>\n",
              "      <th>age</th>\n",
              "      <th>sex</th>\n",
              "      <th>bmi</th>\n",
              "      <th>bp</th>\n",
              "      <th>s1</th>\n",
              "      <th>s2</th>\n",
              "      <th>s3</th>\n",
              "      <th>s4</th>\n",
              "      <th>s5</th>\n",
              "      <th>s6</th>\n",
              "    </tr>\n",
              "  </thead>\n",
              "  <tbody>\n",
              "    <tr>\n",
              "      <th>0</th>\n",
              "      <td>0.038076</td>\n",
              "      <td>0.050680</td>\n",
              "      <td>0.061696</td>\n",
              "      <td>0.021872</td>\n",
              "      <td>-0.044223</td>\n",
              "      <td>-0.034821</td>\n",
              "      <td>-0.043401</td>\n",
              "      <td>-0.002592</td>\n",
              "      <td>0.019908</td>\n",
              "      <td>-0.017646</td>\n",
              "    </tr>\n",
              "    <tr>\n",
              "      <th>1</th>\n",
              "      <td>-0.001882</td>\n",
              "      <td>-0.044642</td>\n",
              "      <td>-0.051474</td>\n",
              "      <td>-0.026328</td>\n",
              "      <td>-0.008449</td>\n",
              "      <td>-0.019163</td>\n",
              "      <td>0.074412</td>\n",
              "      <td>-0.039493</td>\n",
              "      <td>-0.068330</td>\n",
              "      <td>-0.092204</td>\n",
              "    </tr>\n",
              "    <tr>\n",
              "      <th>2</th>\n",
              "      <td>0.085299</td>\n",
              "      <td>0.050680</td>\n",
              "      <td>0.044451</td>\n",
              "      <td>-0.005671</td>\n",
              "      <td>-0.045599</td>\n",
              "      <td>-0.034194</td>\n",
              "      <td>-0.032356</td>\n",
              "      <td>-0.002592</td>\n",
              "      <td>0.002864</td>\n",
              "      <td>-0.025930</td>\n",
              "    </tr>\n",
              "    <tr>\n",
              "      <th>3</th>\n",
              "      <td>-0.089063</td>\n",
              "      <td>-0.044642</td>\n",
              "      <td>-0.011595</td>\n",
              "      <td>-0.036656</td>\n",
              "      <td>0.012191</td>\n",
              "      <td>0.024991</td>\n",
              "      <td>-0.036038</td>\n",
              "      <td>0.034309</td>\n",
              "      <td>0.022692</td>\n",
              "      <td>-0.009362</td>\n",
              "    </tr>\n",
              "    <tr>\n",
              "      <th>4</th>\n",
              "      <td>0.005383</td>\n",
              "      <td>-0.044642</td>\n",
              "      <td>-0.036385</td>\n",
              "      <td>0.021872</td>\n",
              "      <td>0.003935</td>\n",
              "      <td>0.015596</td>\n",
              "      <td>0.008142</td>\n",
              "      <td>-0.002592</td>\n",
              "      <td>-0.031991</td>\n",
              "      <td>-0.046641</td>\n",
              "    </tr>\n",
              "    <tr>\n",
              "      <th>...</th>\n",
              "      <td>...</td>\n",
              "      <td>...</td>\n",
              "      <td>...</td>\n",
              "      <td>...</td>\n",
              "      <td>...</td>\n",
              "      <td>...</td>\n",
              "      <td>...</td>\n",
              "      <td>...</td>\n",
              "      <td>...</td>\n",
              "      <td>...</td>\n",
              "    </tr>\n",
              "    <tr>\n",
              "      <th>437</th>\n",
              "      <td>0.041708</td>\n",
              "      <td>0.050680</td>\n",
              "      <td>0.019662</td>\n",
              "      <td>0.059744</td>\n",
              "      <td>-0.005697</td>\n",
              "      <td>-0.002566</td>\n",
              "      <td>-0.028674</td>\n",
              "      <td>-0.002592</td>\n",
              "      <td>0.031193</td>\n",
              "      <td>0.007207</td>\n",
              "    </tr>\n",
              "    <tr>\n",
              "      <th>438</th>\n",
              "      <td>-0.005515</td>\n",
              "      <td>0.050680</td>\n",
              "      <td>-0.015906</td>\n",
              "      <td>-0.067642</td>\n",
              "      <td>0.049341</td>\n",
              "      <td>0.079165</td>\n",
              "      <td>-0.028674</td>\n",
              "      <td>0.034309</td>\n",
              "      <td>-0.018118</td>\n",
              "      <td>0.044485</td>\n",
              "    </tr>\n",
              "    <tr>\n",
              "      <th>439</th>\n",
              "      <td>0.041708</td>\n",
              "      <td>0.050680</td>\n",
              "      <td>-0.015906</td>\n",
              "      <td>0.017282</td>\n",
              "      <td>-0.037344</td>\n",
              "      <td>-0.013840</td>\n",
              "      <td>-0.024993</td>\n",
              "      <td>-0.011080</td>\n",
              "      <td>-0.046879</td>\n",
              "      <td>0.015491</td>\n",
              "    </tr>\n",
              "    <tr>\n",
              "      <th>440</th>\n",
              "      <td>-0.045472</td>\n",
              "      <td>-0.044642</td>\n",
              "      <td>0.039062</td>\n",
              "      <td>0.001215</td>\n",
              "      <td>0.016318</td>\n",
              "      <td>0.015283</td>\n",
              "      <td>-0.028674</td>\n",
              "      <td>0.026560</td>\n",
              "      <td>0.044528</td>\n",
              "      <td>-0.025930</td>\n",
              "    </tr>\n",
              "    <tr>\n",
              "      <th>441</th>\n",
              "      <td>-0.045472</td>\n",
              "      <td>-0.044642</td>\n",
              "      <td>-0.073030</td>\n",
              "      <td>-0.081414</td>\n",
              "      <td>0.083740</td>\n",
              "      <td>0.027809</td>\n",
              "      <td>0.173816</td>\n",
              "      <td>-0.039493</td>\n",
              "      <td>-0.004220</td>\n",
              "      <td>0.003064</td>\n",
              "    </tr>\n",
              "  </tbody>\n",
              "</table>\n",
              "<p>442 rows × 10 columns</p>\n",
              "</div>\n",
              "      <button class=\"colab-df-convert\" onclick=\"convertToInteractive('df-a9b67e67-4131-4c3b-a730-e36150830c60')\"\n",
              "              title=\"Convert this dataframe to an interactive table.\"\n",
              "              style=\"display:none;\">\n",
              "        \n",
              "  <svg xmlns=\"http://www.w3.org/2000/svg\" height=\"24px\"viewBox=\"0 0 24 24\"\n",
              "       width=\"24px\">\n",
              "    <path d=\"M0 0h24v24H0V0z\" fill=\"none\"/>\n",
              "    <path d=\"M18.56 5.44l.94 2.06.94-2.06 2.06-.94-2.06-.94-.94-2.06-.94 2.06-2.06.94zm-11 1L8.5 8.5l.94-2.06 2.06-.94-2.06-.94L8.5 2.5l-.94 2.06-2.06.94zm10 10l.94 2.06.94-2.06 2.06-.94-2.06-.94-.94-2.06-.94 2.06-2.06.94z\"/><path d=\"M17.41 7.96l-1.37-1.37c-.4-.4-.92-.59-1.43-.59-.52 0-1.04.2-1.43.59L10.3 9.45l-7.72 7.72c-.78.78-.78 2.05 0 2.83L4 21.41c.39.39.9.59 1.41.59.51 0 1.02-.2 1.41-.59l7.78-7.78 2.81-2.81c.8-.78.8-2.07 0-2.86zM5.41 20L4 18.59l7.72-7.72 1.47 1.35L5.41 20z\"/>\n",
              "  </svg>\n",
              "      </button>\n",
              "      \n",
              "  <style>\n",
              "    .colab-df-container {\n",
              "      display:flex;\n",
              "      flex-wrap:wrap;\n",
              "      gap: 12px;\n",
              "    }\n",
              "\n",
              "    .colab-df-convert {\n",
              "      background-color: #E8F0FE;\n",
              "      border: none;\n",
              "      border-radius: 50%;\n",
              "      cursor: pointer;\n",
              "      display: none;\n",
              "      fill: #1967D2;\n",
              "      height: 32px;\n",
              "      padding: 0 0 0 0;\n",
              "      width: 32px;\n",
              "    }\n",
              "\n",
              "    .colab-df-convert:hover {\n",
              "      background-color: #E2EBFA;\n",
              "      box-shadow: 0px 1px 2px rgba(60, 64, 67, 0.3), 0px 1px 3px 1px rgba(60, 64, 67, 0.15);\n",
              "      fill: #174EA6;\n",
              "    }\n",
              "\n",
              "    [theme=dark] .colab-df-convert {\n",
              "      background-color: #3B4455;\n",
              "      fill: #D2E3FC;\n",
              "    }\n",
              "\n",
              "    [theme=dark] .colab-df-convert:hover {\n",
              "      background-color: #434B5C;\n",
              "      box-shadow: 0px 1px 3px 1px rgba(0, 0, 0, 0.15);\n",
              "      filter: drop-shadow(0px 1px 2px rgba(0, 0, 0, 0.3));\n",
              "      fill: #FFFFFF;\n",
              "    }\n",
              "  </style>\n",
              "\n",
              "      <script>\n",
              "        const buttonEl =\n",
              "          document.querySelector('#df-a9b67e67-4131-4c3b-a730-e36150830c60 button.colab-df-convert');\n",
              "        buttonEl.style.display =\n",
              "          google.colab.kernel.accessAllowed ? 'block' : 'none';\n",
              "\n",
              "        async function convertToInteractive(key) {\n",
              "          const element = document.querySelector('#df-a9b67e67-4131-4c3b-a730-e36150830c60');\n",
              "          const dataTable =\n",
              "            await google.colab.kernel.invokeFunction('convertToInteractive',\n",
              "                                                     [key], {});\n",
              "          if (!dataTable) return;\n",
              "\n",
              "          const docLinkHtml = 'Like what you see? Visit the ' +\n",
              "            '<a target=\"_blank\" href=https://colab.research.google.com/notebooks/data_table.ipynb>data table notebook</a>'\n",
              "            + ' to learn more about interactive tables.';\n",
              "          element.innerHTML = '';\n",
              "          dataTable['output_type'] = 'display_data';\n",
              "          await google.colab.output.renderOutput(dataTable, element);\n",
              "          const docLink = document.createElement('div');\n",
              "          docLink.innerHTML = docLinkHtml;\n",
              "          element.appendChild(docLink);\n",
              "        }\n",
              "      </script>\n",
              "    </div>\n",
              "  </div>\n",
              "  "
            ]
          },
          "metadata": {},
          "execution_count": 514
        }
      ]
    },
    {
      "cell_type": "code",
      "source": [
        "df_X = diabetes.data\n",
        "df_y = diabetes.target"
      ],
      "metadata": {
        "id": "QFfiQpl-cTCU"
      },
      "execution_count": 515,
      "outputs": []
    },
    {
      "cell_type": "markdown",
      "source": [
        "# 모델에 입력할 데이터 X준비하기"
      ],
      "metadata": {
        "id": "srwrM3bjatjC"
      }
    },
    {
      "cell_type": "code",
      "source": [
        "import numpy as np\n",
        "df_X = np.array(df_X)\n",
        "df_X.shape"
      ],
      "metadata": {
        "colab": {
          "base_uri": "https://localhost:8080/"
        },
        "id": "KgGuHgXkas02",
        "outputId": "d4082a67-fb21-41e0-fa6b-27ba98c38fcb"
      },
      "execution_count": 516,
      "outputs": [
        {
          "output_type": "execute_result",
          "data": {
            "text/plain": [
              "(442, 10)"
            ]
          },
          "metadata": {},
          "execution_count": 516
        }
      ]
    },
    {
      "cell_type": "markdown",
      "source": [
        "# 모델에 예측할 데이터 y준비하기"
      ],
      "metadata": {
        "id": "BwZN9-9KmpMz"
      }
    },
    {
      "cell_type": "code",
      "source": [
        "df_y = np.array(df_y)\n",
        "df_y.shape"
      ],
      "metadata": {
        "colab": {
          "base_uri": "https://localhost:8080/"
        },
        "id": "hr9eY0nWas30",
        "outputId": "ccc9d289-7700-433c-c085-b304a8167648"
      },
      "execution_count": 517,
      "outputs": [
        {
          "output_type": "execute_result",
          "data": {
            "text/plain": [
              "(442,)"
            ]
          },
          "metadata": {},
          "execution_count": 517
        }
      ]
    },
    {
      "cell_type": "markdown",
      "source": [
        "# train 데이터와 test데이터로 분리하기"
      ],
      "metadata": {
        "id": "EYfc5jP-myIl"
      }
    },
    {
      "cell_type": "code",
      "source": [
        "from sklearn.model_selection import train_test_split\n",
        "\n",
        "X_train, X_test, y_train, y_test = train_test_split(df_X, df_y, test_size = 0.2, random_state=42)\n",
        "\n",
        "print(X_train.shape, y_train.shape)\n",
        "print(X_test.shape, y_test.shape)"
      ],
      "metadata": {
        "colab": {
          "base_uri": "https://localhost:8080/"
        },
        "id": "LMfe5yQxatBV",
        "outputId": "6840d5f9-225e-4e21-8302-35dce380d465"
      },
      "execution_count": 518,
      "outputs": [
        {
          "output_type": "stream",
          "name": "stdout",
          "text": [
            "(353, 10) (353,)\n",
            "(89, 10) (89,)\n"
          ]
        }
      ]
    },
    {
      "cell_type": "markdown",
      "source": [
        "갯수가 알맞게 들어가있다는 것을 알 수 있다."
      ],
      "metadata": {
        "id": "mDYj5BuXsHre"
      }
    },
    {
      "cell_type": "markdown",
      "source": [
        "# 모델 준비하기"
      ],
      "metadata": {
        "id": "FVGxXb35sNwx"
      }
    },
    {
      "cell_type": "code",
      "source": [
        "# W : 기울기, b : y절편\n",
        "\n",
        "W = np.random.rand(10) #rand(행, 열), feature이 10개니깐 10으로 설정\n",
        "b = np.random.rand()"
      ],
      "metadata": {
        "id": "Bg1rKCPUsSvo"
      },
      "execution_count": 519,
      "outputs": []
    },
    {
      "cell_type": "code",
      "source": [
        "W"
      ],
      "metadata": {
        "colab": {
          "base_uri": "https://localhost:8080/"
        },
        "id": "ferqOrQzsqKE",
        "outputId": "33711f57-306c-4416-89e1-4927cd9449b0"
      },
      "execution_count": 520,
      "outputs": [
        {
          "output_type": "execute_result",
          "data": {
            "text/plain": [
              "array([0.38459344, 0.76186343, 0.42177548, 0.41265332, 0.60581127,\n",
              "       0.96929507, 0.07294416, 0.10612639, 0.22637884, 0.89757684])"
            ]
          },
          "metadata": {},
          "execution_count": 520
        }
      ]
    },
    {
      "cell_type": "code",
      "source": [
        "b"
      ],
      "metadata": {
        "colab": {
          "base_uri": "https://localhost:8080/"
        },
        "id": "_7BWqznwstWC",
        "outputId": "69577fd9-264f-418f-a1d1-8ba26d12bc70"
      },
      "execution_count": 521,
      "outputs": [
        {
          "output_type": "execute_result",
          "data": {
            "text/plain": [
              "0.6743434055206342"
            ]
          },
          "metadata": {},
          "execution_count": 521
        }
      ]
    },
    {
      "cell_type": "code",
      "source": [
        "def model(X, W, b):\n",
        "  predictions = 0\n",
        "  for i in range(10):\n",
        "    predictions += X[:, i] * W[i] #각 각의 특성을 각 X값에 곱해준다.\n",
        "  predictions += b # predicctions 맨 마지막에 y절편 값을 더해준다.\n",
        "  return predictions"
      ],
      "metadata": {
        "id": "xPwZxcK2s1RN"
      },
      "execution_count": 522,
      "outputs": []
    },
    {
      "cell_type": "markdown",
      "source": [
        "# 손실함수 loss정의하기"
      ],
      "metadata": {
        "id": "BgTBbn8GtS2d"
      }
    },
    {
      "cell_type": "code",
      "source": [
        "# 오류를 측정해주는 함수 MSE\n",
        "\n",
        "def MSE(a, b):\n",
        "  mse = ((a - b) ** 2).mean() # 두 값의 차이의 제곱의 평균\n",
        "  return mse"
      ],
      "metadata": {
        "id": "WeY8zJVOtViX"
      },
      "execution_count": 523,
      "outputs": []
    },
    {
      "cell_type": "code",
      "source": [
        "def loss(X, W, b, y):\n",
        "  predictions = model(X, W, b)\n",
        "  L = MSE(predictions, y)\n",
        "  return L"
      ],
      "metadata": {
        "id": "yg_1RqzatVk-"
      },
      "execution_count": 524,
      "outputs": []
    },
    {
      "cell_type": "markdown",
      "source": [
        "# 기울기를 구하는 gradient 함수 구현"
      ],
      "metadata": {
        "id": "oS8-3QNstzcV"
      }
    },
    {
      "cell_type": "code",
      "source": [
        "def gradient(X, W, b, y):\n",
        "  N = len(W)\n",
        "  y_pred = model(X, W, b)\n",
        "  dW = 1/N * 2 * X.T.dot(y_pred - y)\n",
        "  db = 2 * (y_pred - y).mean()\n",
        "  return dW, db"
      ],
      "metadata": {
        "id": "5z6uruOUtVnm"
      },
      "execution_count": 525,
      "outputs": []
    },
    {
      "cell_type": "code",
      "source": [
        "dW, db = gradient(df_X, W, b, df_y)\n",
        "print(\"dW:\", dW)\n",
        "print(\"db:\", db)"
      ],
      "metadata": {
        "colab": {
          "base_uri": "https://localhost:8080/"
        },
        "id": "sQE8qczHtVqQ",
        "outputId": "f5418053-5db8-4be1-a042-7c0c8e6ca1dd"
      },
      "execution_count": 526,
      "outputs": [
        {
          "output_type": "stream",
          "name": "stdout",
          "text": [
            "dW: [ -60.54626103  -13.67241174 -189.56809347 -142.61380419  -68.19537102\n",
            "  -55.90075514  127.61970745 -138.94722258 -182.85379807 -123.42341575]\n",
            "db: -302.91828151475056\n"
          ]
        }
      ]
    },
    {
      "cell_type": "markdown",
      "source": [
        "# 하이퍼 파라미터인 학습률 설정하기"
      ],
      "metadata": {
        "id": "fNdT21tvwV-x"
      }
    },
    {
      "cell_type": "code",
      "source": [
        "LEARNING_RATE = 0.2"
      ],
      "metadata": {
        "id": "Q320LHU9tVsn"
      },
      "execution_count": 527,
      "outputs": []
    },
    {
      "cell_type": "markdown",
      "source": [
        "# 모델 학습하기"
      ],
      "metadata": {
        "id": "npYk_MfN20B9"
      }
    },
    {
      "cell_type": "code",
      "source": [
        "losses = []\n",
        "\n",
        "for i in range(1, 1001):\n",
        "  dW, db = gradient(X_train, W, b, y_train)\n",
        "  W -= LEARNING_RATE * dW\n",
        "  b -= LEARNING_RATE * db\n",
        "  L = loss(X_train, W, b, y_train)\n",
        "  losses.append(L)\n",
        "  if i % 10 == 0:\n",
        "    print('lteration %d : Loss %0.4f' % (i, L))"
      ],
      "metadata": {
        "colab": {
          "base_uri": "https://localhost:8080/"
        },
        "id": "y4QWwsrMwd96",
        "outputId": "759ff950-3602-4344-ef6a-e79f70c6571b"
      },
      "execution_count": 528,
      "outputs": [
        {
          "output_type": "stream",
          "name": "stdout",
          "text": [
            "lteration 10 : Loss 3641.2590\n",
            "lteration 20 : Loss 3224.2638\n",
            "lteration 30 : Loss 3064.4487\n",
            "lteration 40 : Loss 2987.0466\n",
            "lteration 50 : Loss 2947.2483\n",
            "lteration 60 : Loss 2926.0970\n",
            "lteration 70 : Loss 2914.5004\n",
            "lteration 80 : Loss 2907.9305\n",
            "lteration 90 : Loss 2904.0754\n",
            "lteration 100 : Loss 2901.7263\n",
            "lteration 110 : Loss 2900.2353\n",
            "lteration 120 : Loss 2899.2462\n",
            "lteration 130 : Loss 2898.5583\n",
            "lteration 140 : Loss 2898.0554\n",
            "lteration 150 : Loss 2897.6686\n",
            "lteration 160 : Loss 2897.3562\n",
            "lteration 170 : Loss 2897.0923\n",
            "lteration 180 : Loss 2896.8605\n",
            "lteration 190 : Loss 2896.6504\n",
            "lteration 200 : Loss 2896.4551\n",
            "lteration 210 : Loss 2896.2700\n",
            "lteration 220 : Loss 2896.0923\n",
            "lteration 230 : Loss 2895.9198\n",
            "lteration 240 : Loss 2895.7513\n",
            "lteration 250 : Loss 2895.5858\n",
            "lteration 260 : Loss 2895.4226\n",
            "lteration 270 : Loss 2895.2614\n",
            "lteration 280 : Loss 2895.1017\n",
            "lteration 290 : Loss 2894.9435\n",
            "lteration 300 : Loss 2894.7866\n",
            "lteration 310 : Loss 2894.6309\n",
            "lteration 320 : Loss 2894.4762\n",
            "lteration 330 : Loss 2894.3226\n",
            "lteration 340 : Loss 2894.1700\n",
            "lteration 350 : Loss 2894.0184\n",
            "lteration 360 : Loss 2893.8678\n",
            "lteration 370 : Loss 2893.7180\n",
            "lteration 380 : Loss 2893.5692\n",
            "lteration 390 : Loss 2893.4214\n",
            "lteration 400 : Loss 2893.2744\n",
            "lteration 410 : Loss 2893.1283\n",
            "lteration 420 : Loss 2892.9831\n",
            "lteration 430 : Loss 2892.8387\n",
            "lteration 440 : Loss 2892.6953\n",
            "lteration 450 : Loss 2892.5527\n",
            "lteration 460 : Loss 2892.4109\n",
            "lteration 470 : Loss 2892.2701\n",
            "lteration 480 : Loss 2892.1300\n",
            "lteration 490 : Loss 2891.9908\n",
            "lteration 500 : Loss 2891.8524\n",
            "lteration 510 : Loss 2891.7149\n",
            "lteration 520 : Loss 2891.5782\n",
            "lteration 530 : Loss 2891.4423\n",
            "lteration 540 : Loss 2891.3072\n",
            "lteration 550 : Loss 2891.1729\n",
            "lteration 560 : Loss 2891.0394\n",
            "lteration 570 : Loss 2890.9067\n",
            "lteration 580 : Loss 2890.7748\n",
            "lteration 590 : Loss 2890.6437\n",
            "lteration 600 : Loss 2890.5134\n",
            "lteration 610 : Loss 2890.3838\n",
            "lteration 620 : Loss 2890.2551\n",
            "lteration 630 : Loss 2890.1270\n",
            "lteration 640 : Loss 2889.9998\n",
            "lteration 650 : Loss 2889.8733\n",
            "lteration 660 : Loss 2889.7475\n",
            "lteration 670 : Loss 2889.6225\n",
            "lteration 680 : Loss 2889.4983\n",
            "lteration 690 : Loss 2889.3748\n",
            "lteration 700 : Loss 2889.2520\n",
            "lteration 710 : Loss 2889.1299\n",
            "lteration 720 : Loss 2889.0086\n",
            "lteration 730 : Loss 2888.8880\n",
            "lteration 740 : Loss 2888.7680\n",
            "lteration 750 : Loss 2888.6489\n",
            "lteration 760 : Loss 2888.5304\n",
            "lteration 770 : Loss 2888.4126\n",
            "lteration 780 : Loss 2888.2955\n",
            "lteration 790 : Loss 2888.1791\n",
            "lteration 800 : Loss 2888.0634\n",
            "lteration 810 : Loss 2887.9484\n",
            "lteration 820 : Loss 2887.8340\n",
            "lteration 830 : Loss 2887.7204\n",
            "lteration 840 : Loss 2887.6074\n",
            "lteration 850 : Loss 2887.4950\n",
            "lteration 860 : Loss 2887.3834\n",
            "lteration 870 : Loss 2887.2724\n",
            "lteration 880 : Loss 2887.1620\n",
            "lteration 890 : Loss 2887.0523\n",
            "lteration 900 : Loss 2886.9433\n",
            "lteration 910 : Loss 2886.8349\n",
            "lteration 920 : Loss 2886.7271\n",
            "lteration 930 : Loss 2886.6200\n",
            "lteration 940 : Loss 2886.5135\n",
            "lteration 950 : Loss 2886.4076\n",
            "lteration 960 : Loss 2886.3024\n",
            "lteration 970 : Loss 2886.1978\n",
            "lteration 980 : Loss 2886.0938\n",
            "lteration 990 : Loss 2885.9904\n",
            "lteration 1000 : Loss 2885.8876\n"
          ]
        }
      ]
    },
    {
      "cell_type": "code",
      "source": [
        "import matplotlib.pyplot as plt\n",
        "plt.plot(losses)\n",
        "plt.show()"
      ],
      "metadata": {
        "colab": {
          "base_uri": "https://localhost:8080/",
          "height": 265
        },
        "id": "2RV7c1bhweAM",
        "outputId": "b243f756-544a-4a8e-e579-1d6f1e14e199"
      },
      "execution_count": 529,
      "outputs": [
        {
          "output_type": "display_data",
          "data": {
            "text/plain": [
              "<Figure size 432x288 with 1 Axes>"
            ],
            "image/png": "[encoded data removed]"
          },
          "metadata": {
            "needs_background": "light"
          }
        }
      ]
    },
    {
      "cell_type": "code",
      "source": [
        "W, b"
      ],
      "metadata": {
        "colab": {
          "base_uri": "https://localhost:8080/"
        },
        "id": "Hb3LVkVfweCw",
        "outputId": "8b0b0bf6-54b7-4007-9818-8ac74408a24c"
      },
      "execution_count": 530,
      "outputs": [
        {
          "output_type": "execute_result",
          "data": {
            "text/plain": [
              "(array([  41.50294868, -240.57401287,  554.9363194 ,  343.70389456,\n",
              "        -284.82560841,   11.42596596, -127.458901  ,  184.8018003 ,\n",
              "         488.76026328,   53.29228179]), 151.31261581572718)"
            ]
          },
          "metadata": {},
          "execution_count": 530
        }
      ]
    },
    {
      "cell_type": "markdown",
      "source": [
        "# test데이터에 대한 성능 확인하기"
      ],
      "metadata": {
        "id": "b8ypWC9825Y-"
      }
    },
    {
      "cell_type": "code",
      "source": [
        "prediction = model(X_test, W, b)\n",
        "mse = loss(X_test, W, b, y_test)\n",
        "mse"
      ],
      "metadata": {
        "colab": {
          "base_uri": "https://localhost:8080/"
        },
        "id": "ZXxy-mwjweE7",
        "outputId": "6da9a5af-8275-4a39-b5b6-6f4e9de15b44"
      },
      "execution_count": 531,
      "outputs": [
        {
          "output_type": "execute_result",
          "data": {
            "text/plain": [
              "2886.20897400658"
            ]
          },
          "metadata": {},
          "execution_count": 531
        }
      ]
    },
    {
      "cell_type": "markdown",
      "source": [
        "# 정답 데이터와 예측한 데이터 시각화하기"
      ],
      "metadata": {
        "id": "b9uXPTNL2-BN"
      }
    },
    {
      "cell_type": "code",
      "source": [
        "plt.scatter(X_test[:,0], y_test, label=\"true\")\n",
        "plt.scatter(X_test[:,0], prediction, label=\"pred\")\n",
        "plt.legend()\n",
        "plt.show()"
      ],
      "metadata": {
        "colab": {
          "base_uri": "https://localhost:8080/",
          "height": 265
        },
        "id": "X3Onkw_atVvR",
        "outputId": "8c406408-ab44-4136-aa5c-69a72ac748c1"
      },
      "execution_count": 532,
      "outputs": [
        {
          "output_type": "display_data",
          "data": {
            "text/plain": [
              "<Figure size 432x288 with 1 Axes>"
            ],
            "image/png": "[encoded data removed]"
          },
          "metadata": {
            "needs_background": "light"
          }
        }
      ]
    },
    {
      "cell_type": "markdown",
      "source": [
        "# Project 2"
      ],
      "metadata": {
        "id": "azchh3h24ABa"
      }
    },
    {
      "cell_type": "markdown",
      "source": [
        "# 데이터 가져오기"
      ],
      "metadata": {
        "id": "Jhueo1vo4hCA"
      }
    },
    {
      "cell_type": "code",
      "source": [
        "from sklearn.datasets import load_diabetes\n",
        "import pandas as pd\n",
        "\n",
        "train = pd.read_csv('/train.csv')\n",
        "train.head()"
      ],
      "metadata": {
        "id": "RGGr69pi4EZI",
        "colab": {
          "base_uri": "https://localhost:8080/",
          "height": 206
        },
        "outputId": "8ef4f9bd-f5b2-4dbb-83dc-7a3d961ac619"
      },
      "execution_count": 533,
      "outputs": [
        {
          "output_type": "execute_result",
          "data": {
            "text/plain": [
              "              datetime  season  holiday  workingday  weather  temp   atemp  \\\n",
              "0  2011-01-01 00:00:00       1        0           0        1  9.84  14.395   \n",
              "1  2011-01-01 01:00:00       1        0           0        1  9.02  13.635   \n",
              "2  2011-01-01 02:00:00       1        0           0        1  9.02  13.635   \n",
              "3  2011-01-01 03:00:00       1        0           0        1  9.84  14.395   \n",
              "4  2011-01-01 04:00:00       1        0           0        1  9.84  14.395   \n",
              "\n",
              "   humidity  windspeed  casual  registered  count  \n",
              "0        81        0.0       3          13     16  \n",
              "1        80        0.0       8          32     40  \n",
              "2        80        0.0       5          27     32  \n",
              "3        75        0.0       3          10     13  \n",
              "4        75        0.0       0           1      1  "
            ],
            "text/html": [
              "\n",
              "  <div id=\"df-7314a3ec-7a11-4da0-84f1-6c426ec4c546\">\n",
              "    <div class=\"colab-df-container\">\n",
              "      <div>\n",
              "<style scoped>\n",
              "    .dataframe tbody tr th:only-of-type {\n",
              "        vertical-align: middle;\n",
              "    }\n",
              "\n",
              "    .dataframe tbody tr th {\n",
              "        vertical-align: top;\n",
              "    }\n",
              "\n",
              "    .dataframe thead th {\n",
              "        text-align: right;\n",
              "    }\n",
              "</style>\n",
              "<table border=\"1\" class=\"dataframe\">\n",
              "  <thead>\n",
              "    <tr style=\"text-align: right;\">\n",
              "      <th></th>\n",
              "      <th>datetime</th>\n",
              "      <th>season</th>\n",
              "      <th>holiday</th>\n",
              "      <th>workingday</th>\n",
              "      <th>weather</th>\n",
              "      <th>temp</th>\n",
              "      <th>atemp</th>\n",
              "      <th>humidity</th>\n",
              "      <th>windspeed</th>\n",
              "      <th>casual</th>\n",
              "      <th>registered</th>\n",
              "      <th>count</th>\n",
              "    </tr>\n",
              "  </thead>\n",
              "  <tbody>\n",
              "    <tr>\n",
              "      <th>0</th>\n",
              "      <td>2011-01-01 00:00:00</td>\n",
              "      <td>1</td>\n",
              "      <td>0</td>\n",
              "      <td>0</td>\n",
              "      <td>1</td>\n",
              "      <td>9.84</td>\n",
              "      <td>14.395</td>\n",
              "      <td>81</td>\n",
              "      <td>0.0</td>\n",
              "      <td>3</td>\n",
              "      <td>13</td>\n",
              "      <td>16</td>\n",
              "    </tr>\n",
              "    <tr>\n",
              "      <th>1</th>\n",
              "      <td>2011-01-01 01:00:00</td>\n",
              "      <td>1</td>\n",
              "      <td>0</td>\n",
              "      <td>0</td>\n",
              "      <td>1</td>\n",
              "      <td>9.02</td>\n",
              "      <td>13.635</td>\n",
              "      <td>80</td>\n",
              "      <td>0.0</td>\n",
              "      <td>8</td>\n",
              "      <td>32</td>\n",
              "      <td>40</td>\n",
              "    </tr>\n",
              "    <tr>\n",
              "      <th>2</th>\n",
              "      <td>2011-01-01 02:00:00</td>\n",
              "      <td>1</td>\n",
              "      <td>0</td>\n",
              "      <td>0</td>\n",
              "      <td>1</td>\n",
              "      <td>9.02</td>\n",
              "      <td>13.635</td>\n",
              "      <td>80</td>\n",
              "      <td>0.0</td>\n",
              "      <td>5</td>\n",
              "      <td>27</td>\n",
              "      <td>32</td>\n",
              "    </tr>\n",
              "    <tr>\n",
              "      <th>3</th>\n",
              "      <td>2011-01-01 03:00:00</td>\n",
              "      <td>1</td>\n",
              "      <td>0</td>\n",
              "      <td>0</td>\n",
              "      <td>1</td>\n",
              "      <td>9.84</td>\n",
              "      <td>14.395</td>\n",
              "      <td>75</td>\n",
              "      <td>0.0</td>\n",
              "      <td>3</td>\n",
              "      <td>10</td>\n",
              "      <td>13</td>\n",
              "    </tr>\n",
              "    <tr>\n",
              "      <th>4</th>\n",
              "      <td>2011-01-01 04:00:00</td>\n",
              "      <td>1</td>\n",
              "      <td>0</td>\n",
              "      <td>0</td>\n",
              "      <td>1</td>\n",
              "      <td>9.84</td>\n",
              "      <td>14.395</td>\n",
              "      <td>75</td>\n",
              "      <td>0.0</td>\n",
              "      <td>0</td>\n",
              "      <td>1</td>\n",
              "      <td>1</td>\n",
              "    </tr>\n",
              "  </tbody>\n",
              "</table>\n",
              "</div>\n",
              "      <button class=\"colab-df-convert\" onclick=\"convertToInteractive('df-7314a3ec-7a11-4da0-84f1-6c426ec4c546')\"\n",
              "              title=\"Convert this dataframe to an interactive table.\"\n",
              "              style=\"display:none;\">\n",
              "        \n",
              "  <svg xmlns=\"http://www.w3.org/2000/svg\" height=\"24px\"viewBox=\"0 0 24 24\"\n",
              "       width=\"24px\">\n",
              "    <path d=\"M0 0h24v24H0V0z\" fill=\"none\"/>\n",
              "    <path d=\"M18.56 5.44l.94 2.06.94-2.06 2.06-.94-2.06-.94-.94-2.06-.94 2.06-2.06.94zm-11 1L8.5 8.5l.94-2.06 2.06-.94-2.06-.94L8.5 2.5l-.94 2.06-2.06.94zm10 10l.94 2.06.94-2.06 2.06-.94-2.06-.94-.94-2.06-.94 2.06-2.06.94z\"/><path d=\"M17.41 7.96l-1.37-1.37c-.4-.4-.92-.59-1.43-.59-.52 0-1.04.2-1.43.59L10.3 9.45l-7.72 7.72c-.78.78-.78 2.05 0 2.83L4 21.41c.39.39.9.59 1.41.59.51 0 1.02-.2 1.41-.59l7.78-7.78 2.81-2.81c.8-.78.8-2.07 0-2.86zM5.41 20L4 18.59l7.72-7.72 1.47 1.35L5.41 20z\"/>\n",
              "  </svg>\n",
              "      </button>\n",
              "      \n",
              "  <style>\n",
              "    .colab-df-container {\n",
              "      display:flex;\n",
              "      flex-wrap:wrap;\n",
              "      gap: 12px;\n",
              "    }\n",
              "\n",
              "    .colab-df-convert {\n",
              "      background-color: #E8F0FE;\n",
              "      border: none;\n",
              "      border-radius: 50%;\n",
              "      cursor: pointer;\n",
              "      display: none;\n",
              "      fill: #1967D2;\n",
              "      height: 32px;\n",
              "      padding: 0 0 0 0;\n",
              "      width: 32px;\n",
              "    }\n",
              "\n",
              "    .colab-df-convert:hover {\n",
              "      background-color: #E2EBFA;\n",
              "      box-shadow: 0px 1px 2px rgba(60, 64, 67, 0.3), 0px 1px 3px 1px rgba(60, 64, 67, 0.15);\n",
              "      fill: #174EA6;\n",
              "    }\n",
              "\n",
              "    [theme=dark] .colab-df-convert {\n",
              "      background-color: #3B4455;\n",
              "      fill: #D2E3FC;\n",
              "    }\n",
              "\n",
              "    [theme=dark] .colab-df-convert:hover {\n",
              "      background-color: #434B5C;\n",
              "      box-shadow: 0px 1px 3px 1px rgba(0, 0, 0, 0.15);\n",
              "      filter: drop-shadow(0px 1px 2px rgba(0, 0, 0, 0.3));\n",
              "      fill: #FFFFFF;\n",
              "    }\n",
              "  </style>\n",
              "\n",
              "      <script>\n",
              "        const buttonEl =\n",
              "          document.querySelector('#df-7314a3ec-7a11-4da0-84f1-6c426ec4c546 button.colab-df-convert');\n",
              "        buttonEl.style.display =\n",
              "          google.colab.kernel.accessAllowed ? 'block' : 'none';\n",
              "\n",
              "        async function convertToInteractive(key) {\n",
              "          const element = document.querySelector('#df-7314a3ec-7a11-4da0-84f1-6c426ec4c546');\n",
              "          const dataTable =\n",
              "            await google.colab.kernel.invokeFunction('convertToInteractive',\n",
              "                                                     [key], {});\n",
              "          if (!dataTable) return;\n",
              "\n",
              "          const docLinkHtml = 'Like what you see? Visit the ' +\n",
              "            '<a target=\"_blank\" href=https://colab.research.google.com/notebooks/data_table.ipynb>data table notebook</a>'\n",
              "            + ' to learn more about interactive tables.';\n",
              "          element.innerHTML = '';\n",
              "          dataTable['output_type'] = 'display_data';\n",
              "          await google.colab.output.renderOutput(dataTable, element);\n",
              "          const docLink = document.createElement('div');\n",
              "          docLink.innerHTML = docLinkHtml;\n",
              "          element.appendChild(docLink);\n",
              "        }\n",
              "      </script>\n",
              "    </div>\n",
              "  </div>\n",
              "  "
            ]
          },
          "metadata": {},
          "execution_count": 533
        }
      ]
    },
    {
      "cell_type": "markdown",
      "source": [
        "# datetime 컬럼을 datetime 자료형으로 변환하고 연, 월, 일, 시, 분, 초까지 6가지 컬럼 생성하기"
      ],
      "metadata": {
        "id": "s3IOLrKs6ylD"
      }
    },
    {
      "cell_type": "code",
      "source": [
        "# https://jimmy-ai.tistory.com/156 참조"
      ],
      "metadata": {
        "id": "0FiAsBnBGEtb"
      },
      "execution_count": 534,
      "outputs": []
    },
    {
      "cell_type": "code",
      "source": [
        "train['datetime']"
      ],
      "metadata": {
        "colab": {
          "base_uri": "https://localhost:8080/"
        },
        "id": "mJ3tZqOn__U5",
        "outputId": "a7716b68-2616-447a-b54b-cfff1e9bc8a8"
      },
      "execution_count": 535,
      "outputs": [
        {
          "output_type": "execute_result",
          "data": {
            "text/plain": [
              "0        2011-01-01 00:00:00\n",
              "1        2011-01-01 01:00:00\n",
              "2        2011-01-01 02:00:00\n",
              "3        2011-01-01 03:00:00\n",
              "4        2011-01-01 04:00:00\n",
              "                ...         \n",
              "10881    2012-12-19 19:00:00\n",
              "10882    2012-12-19 20:00:00\n",
              "10883    2012-12-19 21:00:00\n",
              "10884    2012-12-19 22:00:00\n",
              "10885    2012-12-19 23:00:00\n",
              "Name: datetime, Length: 10886, dtype: object"
            ]
          },
          "metadata": {},
          "execution_count": 535
        }
      ]
    },
    {
      "cell_type": "markdown",
      "source": [
        "type이 object라는 것을 알 수 있다. datetime은 시간 형식이기 때문에, 숫자형으로 바꿔줘야 한다."
      ],
      "metadata": {
        "id": "3nMnHrIOAE0t"
      }
    },
    {
      "cell_type": "code",
      "source": [
        "train['datetime'] = pd.to_datetime(train['datetime'])"
      ],
      "metadata": {
        "id": "hyiIyOFA65j3"
      },
      "execution_count": 536,
      "outputs": []
    },
    {
      "cell_type": "code",
      "source": [
        "train['datetime']"
      ],
      "metadata": {
        "colab": {
          "base_uri": "https://localhost:8080/"
        },
        "id": "5oqxCSdu8lpO",
        "outputId": "7d860f4c-d7ac-4707-c8da-1756a4f637a9"
      },
      "execution_count": 537,
      "outputs": [
        {
          "output_type": "execute_result",
          "data": {
            "text/plain": [
              "0       2011-01-01 00:00:00\n",
              "1       2011-01-01 01:00:00\n",
              "2       2011-01-01 02:00:00\n",
              "3       2011-01-01 03:00:00\n",
              "4       2011-01-01 04:00:00\n",
              "                ...        \n",
              "10881   2012-12-19 19:00:00\n",
              "10882   2012-12-19 20:00:00\n",
              "10883   2012-12-19 21:00:00\n",
              "10884   2012-12-19 22:00:00\n",
              "10885   2012-12-19 23:00:00\n",
              "Name: datetime, Length: 10886, dtype: datetime64[ns]"
            ]
          },
          "metadata": {},
          "execution_count": 537
        }
      ]
    },
    {
      "cell_type": "markdown",
      "source": [
        "object 자료형을 datetime으로 바꿔줬다."
      ],
      "metadata": {
        "id": "8uZyVMZz_3Op"
      }
    },
    {
      "cell_type": "markdown",
      "source": [
        "더 자세하게 자료형을 알아보자. 과연, 우리가 변하게 해주고 싶은 연월일시간분초 정보가 다 들어가있을까?"
      ],
      "metadata": {
        "id": "ZSv_xLbtAiKE"
      }
    },
    {
      "cell_type": "code",
      "source": [
        "train['datetime'].dt.year # dt.year이 하나의 명령어"
      ],
      "metadata": {
        "colab": {
          "base_uri": "https://localhost:8080/"
        },
        "id": "y27fVd2lAfEU",
        "outputId": "c20916ec-3f10-4a70-fcf3-725a4eca5630"
      },
      "execution_count": 538,
      "outputs": [
        {
          "output_type": "execute_result",
          "data": {
            "text/plain": [
              "0        2011\n",
              "1        2011\n",
              "2        2011\n",
              "3        2011\n",
              "4        2011\n",
              "         ... \n",
              "10881    2012\n",
              "10882    2012\n",
              "10883    2012\n",
              "10884    2012\n",
              "10885    2012\n",
              "Name: datetime, Length: 10886, dtype: int64"
            ]
          },
          "metadata": {},
          "execution_count": 538
        }
      ]
    },
    {
      "cell_type": "code",
      "source": [
        "train['datetime'].dt.month # 월"
      ],
      "metadata": {
        "colab": {
          "base_uri": "https://localhost:8080/"
        },
        "id": "JqBEaLdA8lr7",
        "outputId": "c821617d-ab3d-4b93-ba7a-0c2fd9d0115f"
      },
      "execution_count": 539,
      "outputs": [
        {
          "output_type": "execute_result",
          "data": {
            "text/plain": [
              "0         1\n",
              "1         1\n",
              "2         1\n",
              "3         1\n",
              "4         1\n",
              "         ..\n",
              "10881    12\n",
              "10882    12\n",
              "10883    12\n",
              "10884    12\n",
              "10885    12\n",
              "Name: datetime, Length: 10886, dtype: int64"
            ]
          },
          "metadata": {},
          "execution_count": 539
        }
      ]
    },
    {
      "cell_type": "code",
      "source": [
        "train['datetime'].dt.day  # 일"
      ],
      "metadata": {
        "colab": {
          "base_uri": "https://localhost:8080/"
        },
        "id": "AERULdag8lvH",
        "outputId": "7faced48-91b7-4fd5-a9a0-0b9e5bf50577"
      },
      "execution_count": 540,
      "outputs": [
        {
          "output_type": "execute_result",
          "data": {
            "text/plain": [
              "0         1\n",
              "1         1\n",
              "2         1\n",
              "3         1\n",
              "4         1\n",
              "         ..\n",
              "10881    19\n",
              "10882    19\n",
              "10883    19\n",
              "10884    19\n",
              "10885    19\n",
              "Name: datetime, Length: 10886, dtype: int64"
            ]
          },
          "metadata": {},
          "execution_count": 540
        }
      ]
    },
    {
      "cell_type": "code",
      "source": [
        "train['datetime'].dt.hour # 시"
      ],
      "metadata": {
        "colab": {
          "base_uri": "https://localhost:8080/"
        },
        "id": "jx9AeRxDBoxw",
        "outputId": "4c61f2a3-4667-4da3-d38f-9f8e9f13cd92"
      },
      "execution_count": 541,
      "outputs": [
        {
          "output_type": "execute_result",
          "data": {
            "text/plain": [
              "0         0\n",
              "1         1\n",
              "2         2\n",
              "3         3\n",
              "4         4\n",
              "         ..\n",
              "10881    19\n",
              "10882    20\n",
              "10883    21\n",
              "10884    22\n",
              "10885    23\n",
              "Name: datetime, Length: 10886, dtype: int64"
            ]
          },
          "metadata": {},
          "execution_count": 541
        }
      ]
    },
    {
      "cell_type": "code",
      "source": [
        "train['datetime'].dt.minute # 분"
      ],
      "metadata": {
        "colab": {
          "base_uri": "https://localhost:8080/"
        },
        "id": "RluAlRlBBo0L",
        "outputId": "5abbbd2e-2113-4e22-9975-7ec99e943b92"
      },
      "execution_count": 542,
      "outputs": [
        {
          "output_type": "execute_result",
          "data": {
            "text/plain": [
              "0        0\n",
              "1        0\n",
              "2        0\n",
              "3        0\n",
              "4        0\n",
              "        ..\n",
              "10881    0\n",
              "10882    0\n",
              "10883    0\n",
              "10884    0\n",
              "10885    0\n",
              "Name: datetime, Length: 10886, dtype: int64"
            ]
          },
          "metadata": {},
          "execution_count": 542
        }
      ]
    },
    {
      "cell_type": "code",
      "source": [
        "train['datetime'].dt.second # 초"
      ],
      "metadata": {
        "colab": {
          "base_uri": "https://localhost:8080/"
        },
        "id": "E-7IFdb6Bo2e",
        "outputId": "e482a19b-0ef9-45cc-c59b-83a6e855fd00"
      },
      "execution_count": 543,
      "outputs": [
        {
          "output_type": "execute_result",
          "data": {
            "text/plain": [
              "0        0\n",
              "1        0\n",
              "2        0\n",
              "3        0\n",
              "4        0\n",
              "        ..\n",
              "10881    0\n",
              "10882    0\n",
              "10883    0\n",
              "10884    0\n",
              "10885    0\n",
              "Name: datetime, Length: 10886, dtype: int64"
            ]
          },
          "metadata": {},
          "execution_count": 543
        }
      ]
    },
    {
      "cell_type": "code",
      "source": [
        "# column 생성\n",
        "\n",
        "train['year'] = train['datetime'].dt.year\n",
        "train['month'] = train['datetime'].dt.month\n",
        "train['day'] = train['datetime'].dt.day\n",
        "train['hour'] = train['datetime'].dt.hour\n",
        "train['minute'] = train['datetime'].dt.minute\n",
        "train['second'] = train['datetime'].dt.second"
      ],
      "metadata": {
        "id": "qsTOH64-Bo5A"
      },
      "execution_count": 544,
      "outputs": []
    },
    {
      "cell_type": "code",
      "source": [
        "train.head() # 잘 생성되었는 지 확인"
      ],
      "metadata": {
        "colab": {
          "base_uri": "https://localhost:8080/",
          "height": 206
        },
        "id": "e7MA6ZWyE-G8",
        "outputId": "2aade5a4-80b2-4396-e12c-d09d51ef237f"
      },
      "execution_count": 545,
      "outputs": [
        {
          "output_type": "execute_result",
          "data": {
            "text/plain": [
              "             datetime  season  holiday  workingday  weather  temp   atemp  \\\n",
              "0 2011-01-01 00:00:00       1        0           0        1  9.84  14.395   \n",
              "1 2011-01-01 01:00:00       1        0           0        1  9.02  13.635   \n",
              "2 2011-01-01 02:00:00       1        0           0        1  9.02  13.635   \n",
              "3 2011-01-01 03:00:00       1        0           0        1  9.84  14.395   \n",
              "4 2011-01-01 04:00:00       1        0           0        1  9.84  14.395   \n",
              "\n",
              "   humidity  windspeed  casual  registered  count  year  month  day  hour  \\\n",
              "0        81        0.0       3          13     16  2011      1    1     0   \n",
              "1        80        0.0       8          32     40  2011      1    1     1   \n",
              "2        80        0.0       5          27     32  2011      1    1     2   \n",
              "3        75        0.0       3          10     13  2011      1    1     3   \n",
              "4        75        0.0       0           1      1  2011      1    1     4   \n",
              "\n",
              "   minute  second  \n",
              "0       0       0  \n",
              "1       0       0  \n",
              "2       0       0  \n",
              "3       0       0  \n",
              "4       0       0  "
            ],
            "text/html": [
              "\n",
              "  <div id=\"df-1a3bdf38-dd0d-4ccc-92ad-234bb32c765e\">\n",
              "    <div class=\"colab-df-container\">\n",
              "      <div>\n",
              "<style scoped>\n",
              "    .dataframe tbody tr th:only-of-type {\n",
              "        vertical-align: middle;\n",
              "    }\n",
              "\n",
              "    .dataframe tbody tr th {\n",
              "        vertical-align: top;\n",
              "    }\n",
              "\n",
              "    .dataframe thead th {\n",
              "        text-align: right;\n",
              "    }\n",
              "</style>\n",
              "<table border=\"1\" class=\"dataframe\">\n",
              "  <thead>\n",
              "    <tr style=\"text-align: right;\">\n",
              "      <th></th>\n",
              "      <th>datetime</th>\n",
              "      <th>season</th>\n",
              "      <th>holiday</th>\n",
              "      <th>workingday</th>\n",
              "      <th>weather</th>\n",
              "      <th>temp</th>\n",
              "      <th>atemp</th>\n",
              "      <th>humidity</th>\n",
              "      <th>windspeed</th>\n",
              "      <th>casual</th>\n",
              "      <th>registered</th>\n",
              "      <th>count</th>\n",
              "      <th>year</th>\n",
              "      <th>month</th>\n",
              "      <th>day</th>\n",
              "      <th>hour</th>\n",
              "      <th>minute</th>\n",
              "      <th>second</th>\n",
              "    </tr>\n",
              "  </thead>\n",
              "  <tbody>\n",
              "    <tr>\n",
              "      <th>0</th>\n",
              "      <td>2011-01-01 00:00:00</td>\n",
              "      <td>1</td>\n",
              "      <td>0</td>\n",
              "      <td>0</td>\n",
              "      <td>1</td>\n",
              "      <td>9.84</td>\n",
              "      <td>14.395</td>\n",
              "      <td>81</td>\n",
              "      <td>0.0</td>\n",
              "      <td>3</td>\n",
              "      <td>13</td>\n",
              "      <td>16</td>\n",
              "      <td>2011</td>\n",
              "      <td>1</td>\n",
              "      <td>1</td>\n",
              "      <td>0</td>\n",
              "      <td>0</td>\n",
              "      <td>0</td>\n",
              "    </tr>\n",
              "    <tr>\n",
              "      <th>1</th>\n",
              "      <td>2011-01-01 01:00:00</td>\n",
              "      <td>1</td>\n",
              "      <td>0</td>\n",
              "      <td>0</td>\n",
              "      <td>1</td>\n",
              "      <td>9.02</td>\n",
              "      <td>13.635</td>\n",
              "      <td>80</td>\n",
              "      <td>0.0</td>\n",
              "      <td>8</td>\n",
              "      <td>32</td>\n",
              "      <td>40</td>\n",
              "      <td>2011</td>\n",
              "      <td>1</td>\n",
              "      <td>1</td>\n",
              "      <td>1</td>\n",
              "      <td>0</td>\n",
              "      <td>0</td>\n",
              "    </tr>\n",
              "    <tr>\n",
              "      <th>2</th>\n",
              "      <td>2011-01-01 02:00:00</td>\n",
              "      <td>1</td>\n",
              "      <td>0</td>\n",
              "      <td>0</td>\n",
              "      <td>1</td>\n",
              "      <td>9.02</td>\n",
              "      <td>13.635</td>\n",
              "      <td>80</td>\n",
              "      <td>0.0</td>\n",
              "      <td>5</td>\n",
              "      <td>27</td>\n",
              "      <td>32</td>\n",
              "      <td>2011</td>\n",
              "      <td>1</td>\n",
              "      <td>1</td>\n",
              "      <td>2</td>\n",
              "      <td>0</td>\n",
              "      <td>0</td>\n",
              "    </tr>\n",
              "    <tr>\n",
              "      <th>3</th>\n",
              "      <td>2011-01-01 03:00:00</td>\n",
              "      <td>1</td>\n",
              "      <td>0</td>\n",
              "      <td>0</td>\n",
              "      <td>1</td>\n",
              "      <td>9.84</td>\n",
              "      <td>14.395</td>\n",
              "      <td>75</td>\n",
              "      <td>0.0</td>\n",
              "      <td>3</td>\n",
              "      <td>10</td>\n",
              "      <td>13</td>\n",
              "      <td>2011</td>\n",
              "      <td>1</td>\n",
              "      <td>1</td>\n",
              "      <td>3</td>\n",
              "      <td>0</td>\n",
              "      <td>0</td>\n",
              "    </tr>\n",
              "    <tr>\n",
              "      <th>4</th>\n",
              "      <td>2011-01-01 04:00:00</td>\n",
              "      <td>1</td>\n",
              "      <td>0</td>\n",
              "      <td>0</td>\n",
              "      <td>1</td>\n",
              "      <td>9.84</td>\n",
              "      <td>14.395</td>\n",
              "      <td>75</td>\n",
              "      <td>0.0</td>\n",
              "      <td>0</td>\n",
              "      <td>1</td>\n",
              "      <td>1</td>\n",
              "      <td>2011</td>\n",
              "      <td>1</td>\n",
              "      <td>1</td>\n",
              "      <td>4</td>\n",
              "      <td>0</td>\n",
              "      <td>0</td>\n",
              "    </tr>\n",
              "  </tbody>\n",
              "</table>\n",
              "</div>\n",
              "      <button class=\"colab-df-convert\" onclick=\"convertToInteractive('df-1a3bdf38-dd0d-4ccc-92ad-234bb32c765e')\"\n",
              "              title=\"Convert this dataframe to an interactive table.\"\n",
              "              style=\"display:none;\">\n",
              "        \n",
              "  <svg xmlns=\"http://www.w3.org/2000/svg\" height=\"24px\"viewBox=\"0 0 24 24\"\n",
              "       width=\"24px\">\n",
              "    <path d=\"M0 0h24v24H0V0z\" fill=\"none\"/>\n",
              "    <path d=\"M18.56 5.44l.94 2.06.94-2.06 2.06-.94-2.06-.94-.94-2.06-.94 2.06-2.06.94zm-11 1L8.5 8.5l.94-2.06 2.06-.94-2.06-.94L8.5 2.5l-.94 2.06-2.06.94zm10 10l.94 2.06.94-2.06 2.06-.94-2.06-.94-.94-2.06-.94 2.06-2.06.94z\"/><path d=\"M17.41 7.96l-1.37-1.37c-.4-.4-.92-.59-1.43-.59-.52 0-1.04.2-1.43.59L10.3 9.45l-7.72 7.72c-.78.78-.78 2.05 0 2.83L4 21.41c.39.39.9.59 1.41.59.51 0 1.02-.2 1.41-.59l7.78-7.78 2.81-2.81c.8-.78.8-2.07 0-2.86zM5.41 20L4 18.59l7.72-7.72 1.47 1.35L5.41 20z\"/>\n",
              "  </svg>\n",
              "      </button>\n",
              "      \n",
              "  <style>\n",
              "    .colab-df-container {\n",
              "      display:flex;\n",
              "      flex-wrap:wrap;\n",
              "      gap: 12px;\n",
              "    }\n",
              "\n",
              "    .colab-df-convert {\n",
              "      background-color: #E8F0FE;\n",
              "      border: none;\n",
              "      border-radius: 50%;\n",
              "      cursor: pointer;\n",
              "      display: none;\n",
              "      fill: #1967D2;\n",
              "      height: 32px;\n",
              "      padding: 0 0 0 0;\n",
              "      width: 32px;\n",
              "    }\n",
              "\n",
              "    .colab-df-convert:hover {\n",
              "      background-color: #E2EBFA;\n",
              "      box-shadow: 0px 1px 2px rgba(60, 64, 67, 0.3), 0px 1px 3px 1px rgba(60, 64, 67, 0.15);\n",
              "      fill: #174EA6;\n",
              "    }\n",
              "\n",
              "    [theme=dark] .colab-df-convert {\n",
              "      background-color: #3B4455;\n",
              "      fill: #D2E3FC;\n",
              "    }\n",
              "\n",
              "    [theme=dark] .colab-df-convert:hover {\n",
              "      background-color: #434B5C;\n",
              "      box-shadow: 0px 1px 3px 1px rgba(0, 0, 0, 0.15);\n",
              "      filter: drop-shadow(0px 1px 2px rgba(0, 0, 0, 0.3));\n",
              "      fill: #FFFFFF;\n",
              "    }\n",
              "  </style>\n",
              "\n",
              "      <script>\n",
              "        const buttonEl =\n",
              "          document.querySelector('#df-1a3bdf38-dd0d-4ccc-92ad-234bb32c765e button.colab-df-convert');\n",
              "        buttonEl.style.display =\n",
              "          google.colab.kernel.accessAllowed ? 'block' : 'none';\n",
              "\n",
              "        async function convertToInteractive(key) {\n",
              "          const element = document.querySelector('#df-1a3bdf38-dd0d-4ccc-92ad-234bb32c765e');\n",
              "          const dataTable =\n",
              "            await google.colab.kernel.invokeFunction('convertToInteractive',\n",
              "                                                     [key], {});\n",
              "          if (!dataTable) return;\n",
              "\n",
              "          const docLinkHtml = 'Like what you see? Visit the ' +\n",
              "            '<a target=\"_blank\" href=https://colab.research.google.com/notebooks/data_table.ipynb>data table notebook</a>'\n",
              "            + ' to learn more about interactive tables.';\n",
              "          element.innerHTML = '';\n",
              "          dataTable['output_type'] = 'display_data';\n",
              "          await google.colab.output.renderOutput(dataTable, element);\n",
              "          const docLink = document.createElement('div');\n",
              "          docLink.innerHTML = docLinkHtml;\n",
              "          element.appendChild(docLink);\n",
              "        }\n",
              "      </script>\n",
              "    </div>\n",
              "  </div>\n",
              "  "
            ]
          },
          "metadata": {},
          "execution_count": 545
        }
      ]
    },
    {
      "cell_type": "markdown",
      "source": [
        "# year, month, day, hour, minute, second 데이터 개수 시각화하기"
      ],
      "metadata": {
        "id": "VS2zrEUaFzpi"
      }
    },
    {
      "cell_type": "code",
      "source": [
        "import seaborn as sns\n",
        "import matplotlib.pyplot"
      ],
      "metadata": {
        "id": "Z6Hl3eneBo7C"
      },
      "execution_count": 546,
      "outputs": []
    },
    {
      "cell_type": "code",
      "source": [
        "# countplot 명령을 사용하면 각 카테고리 값별로 데이터가 얼마나 있는 지 표시할 수 있다.\n",
        "# countplot(x=\"columnn_name\", data=dataframe)\n",
        "\n",
        "# matplotlib.pyplot 모듈의 subplot() 함수는 여러 개의 그래프를 하나의 그림에 나타내도록 한다.\n",
        "# plt.subplot(row, column, index)\n",
        "\n",
        "#참조 https://www.tutorialspoint.com/how-do-i-plot-two-countplot-graphs-side-by-side-in-seaborn-using-matplotlib"
      ],
      "metadata": {
        "id": "MV1A9DdyBo9P"
      },
      "execution_count": 547,
      "outputs": []
    },
    {
      "cell_type": "markdown",
      "source": [
        "subplot()"
      ],
      "metadata": {
        "id": "FHUDvDifHGW_"
      }
    },
    {
      "cell_type": "markdown",
      "source": [
        "![subplot_03.png](data:image/png;base64,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)"
      ],
      "metadata": {
        "id": "K8ntJqunHDLg"
      }
    },
    {
      "cell_type": "code",
      "source": [
        "# subplot 안 쓰고 하나씩 만들어보기\n",
        "\n",
        "sns.countplot(x= \"year\", data = train)\n",
        "plt.title('연도')\n",
        "plt.show()"
      ],
      "metadata": {
        "colab": {
          "base_uri": "https://localhost:8080/",
          "height": 440
        },
        "id": "fgVPleGEGjzL",
        "outputId": "d5722e1e-f829-40dd-fb88-3bcd315fcf4c"
      },
      "execution_count": 548,
      "outputs": [
        {
          "output_type": "stream",
          "name": "stderr",
          "text": [
            "/usr/local/lib/python3.7/dist-packages/matplotlib/backends/backend_agg.py:214: RuntimeWarning: Glyph 50672 missing from current font.\n",
            "  font.set_text(s, 0.0, flags=flags)\n",
            "/usr/local/lib/python3.7/dist-packages/matplotlib/backends/backend_agg.py:214: RuntimeWarning: Glyph 46020 missing from current font.\n",
            "  font.set_text(s, 0.0, flags=flags)\n",
            "/usr/local/lib/python3.7/dist-packages/matplotlib/backends/backend_agg.py:183: RuntimeWarning: Glyph 50672 missing from current font.\n",
            "  font.set_text(s, 0, flags=flags)\n",
            "/usr/local/lib/python3.7/dist-packages/matplotlib/backends/backend_agg.py:183: RuntimeWarning: Glyph 46020 missing from current font.\n",
            "  font.set_text(s, 0, flags=flags)\n"
          ]
        },
        {
          "output_type": "display_data",
          "data": {
            "text/plain": [
              "<Figure size 432x288 with 1 Axes>"
            ],
            "image/png": "[encoded data removed]"
          },
          "metadata": {
            "needs_background": "light"
          }
        }
      ]
    },
    {
      "cell_type": "code",
      "source": [
        "# subplot 안 쓰고 하나씩 만들어보기\n",
        "\n",
        "sns.countplot(x= \"month\", data = train)\n",
        "plt.title('월')\n",
        "plt.show()"
      ],
      "metadata": {
        "colab": {
          "base_uri": "https://localhost:8080/",
          "height": 368
        },
        "id": "5tR12mOqGj2P",
        "outputId": "9dd29c73-edde-480d-bf36-a550c7b019d4"
      },
      "execution_count": 549,
      "outputs": [
        {
          "output_type": "stream",
          "name": "stderr",
          "text": [
            "/usr/local/lib/python3.7/dist-packages/matplotlib/backends/backend_agg.py:214: RuntimeWarning: Glyph 50900 missing from current font.\n",
            "  font.set_text(s, 0.0, flags=flags)\n",
            "/usr/local/lib/python3.7/dist-packages/matplotlib/backends/backend_agg.py:183: RuntimeWarning: Glyph 50900 missing from current font.\n",
            "  font.set_text(s, 0, flags=flags)\n"
          ]
        },
        {
          "output_type": "display_data",
          "data": {
            "text/plain": [
              "<Figure size 432x288 with 1 Axes>"
            ],
            "image/png": "[encoded data removed]"
          },
          "metadata": {
            "needs_background": "light"
          }
        }
      ]
    },
    {
      "cell_type": "code",
      "source": [
        "# subplot 안 쓰고 하나씩 만들어보기\n",
        "\n",
        "sns.countplot(x= \"day\", data = train)\n",
        "plt.title('일')\n",
        "plt.show()"
      ],
      "metadata": {
        "colab": {
          "base_uri": "https://localhost:8080/",
          "height": 368
        },
        "id": "Uyr4qeTDGj6B",
        "outputId": "373cbbce-7fc5-4987-a21f-7a85589ccb04"
      },
      "execution_count": 550,
      "outputs": [
        {
          "output_type": "stream",
          "name": "stderr",
          "text": [
            "/usr/local/lib/python3.7/dist-packages/matplotlib/backends/backend_agg.py:214: RuntimeWarning: Glyph 51068 missing from current font.\n",
            "  font.set_text(s, 0.0, flags=flags)\n",
            "/usr/local/lib/python3.7/dist-packages/matplotlib/backends/backend_agg.py:183: RuntimeWarning: Glyph 51068 missing from current font.\n",
            "  font.set_text(s, 0, flags=flags)\n"
          ]
        },
        {
          "output_type": "display_data",
          "data": {
            "text/plain": [
              "<Figure size 432x288 with 1 Axes>"
            ],
            "image/png": "[encoded data removed]"
          },
          "metadata": {
            "needs_background": "light"
          }
        }
      ]
    },
    {
      "cell_type": "code",
      "source": [
        "# subplot 안 쓰고 하나씩 만들어보기\n",
        "\n",
        "sns.countplot(x= \"hour\", data = train)\n",
        "plt.title('시')\n",
        "plt.show()"
      ],
      "metadata": {
        "colab": {
          "base_uri": "https://localhost:8080/",
          "height": 368
        },
        "id": "HRkdE59kGj8V",
        "outputId": "c8f0f8f5-a73b-4a39-fa6c-0587e5cfa0b0"
      },
      "execution_count": 551,
      "outputs": [
        {
          "output_type": "stream",
          "name": "stderr",
          "text": [
            "/usr/local/lib/python3.7/dist-packages/matplotlib/backends/backend_agg.py:214: RuntimeWarning: Glyph 49884 missing from current font.\n",
            "  font.set_text(s, 0.0, flags=flags)\n",
            "/usr/local/lib/python3.7/dist-packages/matplotlib/backends/backend_agg.py:183: RuntimeWarning: Glyph 49884 missing from current font.\n",
            "  font.set_text(s, 0, flags=flags)\n"
          ]
        },
        {
          "output_type": "display_data",
          "data": {
            "text/plain": [
              "<Figure size 432x288 with 1 Axes>"
            ],
            "image/png": "[encoded data removed]"
          },
          "metadata": {
            "needs_background": "light"
          }
        }
      ]
    },
    {
      "cell_type": "code",
      "source": [
        "# subplot 안 쓰고 하나씩 만들어보기\n",
        "\n",
        "sns.countplot(x= \"minute\", data = train)\n",
        "plt.title('분')\n",
        "plt.show()"
      ],
      "metadata": {
        "colab": {
          "base_uri": "https://localhost:8080/",
          "height": 368
        },
        "id": "NuwkqVKIGj_H",
        "outputId": "cbb49f24-c14b-4fd3-b9f6-1e884cde7cde"
      },
      "execution_count": 552,
      "outputs": [
        {
          "output_type": "stream",
          "name": "stderr",
          "text": [
            "/usr/local/lib/python3.7/dist-packages/matplotlib/backends/backend_agg.py:214: RuntimeWarning: Glyph 48516 missing from current font.\n",
            "  font.set_text(s, 0.0, flags=flags)\n",
            "/usr/local/lib/python3.7/dist-packages/matplotlib/backends/backend_agg.py:183: RuntimeWarning: Glyph 48516 missing from current font.\n",
            "  font.set_text(s, 0, flags=flags)\n"
          ]
        },
        {
          "output_type": "display_data",
          "data": {
            "text/plain": [
              "<Figure size 432x288 with 1 Axes>"
            ],
            "image/png": "[encoded data removed]"
          },
          "metadata": {
            "needs_background": "light"
          }
        }
      ]
    },
    {
      "cell_type": "code",
      "source": [
        "# subplot 안 쓰고 하나씩 만들어보기\n",
        "\n",
        "sns.countplot(x= \"second\", data = train)\n",
        "plt.title('초')\n",
        "plt.show()"
      ],
      "metadata": {
        "colab": {
          "base_uri": "https://localhost:8080/",
          "height": 368
        },
        "id": "3K_UEw_6KMip",
        "outputId": "c9c376ba-bf99-4be2-cee8-eb3456f4bff9"
      },
      "execution_count": 553,
      "outputs": [
        {
          "output_type": "stream",
          "name": "stderr",
          "text": [
            "/usr/local/lib/python3.7/dist-packages/matplotlib/backends/backend_agg.py:214: RuntimeWarning: Glyph 52488 missing from current font.\n",
            "  font.set_text(s, 0.0, flags=flags)\n",
            "/usr/local/lib/python3.7/dist-packages/matplotlib/backends/backend_agg.py:183: RuntimeWarning: Glyph 52488 missing from current font.\n",
            "  font.set_text(s, 0, flags=flags)\n"
          ]
        },
        {
          "output_type": "display_data",
          "data": {
            "text/plain": [
              "<Figure size 432x288 with 1 Axes>"
            ],
            "image/png": "[encoded data removed]"
          },
          "metadata": {
            "needs_background": "light"
          }
        }
      ]
    },
    {
      "cell_type": "code",
      "source": [
        "fig, ax = plt.subplots(3,2, figsize = (12, 10))           # figsize = 그래프 크기\n",
        "sns.countplot(data = train, x = \"year\", ax = ax[0,0])\n",
        "sns.countplot(data = train, x = \"month\", ax = ax[0,1])\n",
        "sns.countplot(data = train, x = \"day\", ax = ax[1,0])\n",
        "sns.countplot(data = train, x = \"hour\", ax = ax[1,1])\n",
        "sns.countplot(data = train, x = \"minute\", ax = ax[2,0])\n",
        "sns.countplot(data = train, x = \"second\", ax = ax[2,1])\n",
        "\n",
        "fig.tight_layout()\n",
        "plt.subplots_adjust(left=4, bottom=4, right=5, top=5)\n",
        "\n",
        "# subplots_adjust(left, bottom, right, top, wspace, hspace)\n",
        "# 그래프들 간격 사이 조정"
      ],
      "metadata": {
        "colab": {
          "base_uri": "https://localhost:8080/",
          "height": 782
        },
        "id": "lokMsFWGK7MV",
        "outputId": "ab9a05db-3fca-42b3-c4f8-f88e43041fe0"
      },
      "execution_count": 554,
      "outputs": [
        {
          "output_type": "display_data",
          "data": {
            "text/plain": [
              "<Figure size 864x720 with 6 Axes>"
            ],
            "image/png": "[encoded data removed]"
          },
          "metadata": {
            "needs_background": "light"
          }
        }
      ]
    },
    {
      "cell_type": "markdown",
      "source": [
        "# X, y 컬럼 선택 및 train/test 데이터 분리"
      ],
      "metadata": {
        "id": "yVUXM1OyRm0z"
      }
    },
    {
      "cell_type": "code",
      "source": [
        "train.head()"
      ],
      "metadata": {
        "colab": {
          "base_uri": "https://localhost:8080/",
          "height": 206
        },
        "id": "lzSwbVtSfQo0",
        "outputId": "b11aac8d-d078-42dd-dde1-cca9e14759b6"
      },
      "execution_count": 555,
      "outputs": [
        {
          "output_type": "execute_result",
          "data": {
            "text/plain": [
              "             datetime  season  holiday  workingday  weather  temp   atemp  \\\n",
              "0 2011-01-01 00:00:00       1        0           0        1  9.84  14.395   \n",
              "1 2011-01-01 01:00:00       1        0           0        1  9.02  13.635   \n",
              "2 2011-01-01 02:00:00       1        0           0        1  9.02  13.635   \n",
              "3 2011-01-01 03:00:00       1        0           0        1  9.84  14.395   \n",
              "4 2011-01-01 04:00:00       1        0           0        1  9.84  14.395   \n",
              "\n",
              "   humidity  windspeed  casual  registered  count  year  month  day  hour  \\\n",
              "0        81        0.0       3          13     16  2011      1    1     0   \n",
              "1        80        0.0       8          32     40  2011      1    1     1   \n",
              "2        80        0.0       5          27     32  2011      1    1     2   \n",
              "3        75        0.0       3          10     13  2011      1    1     3   \n",
              "4        75        0.0       0           1      1  2011      1    1     4   \n",
              "\n",
              "   minute  second  \n",
              "0       0       0  \n",
              "1       0       0  \n",
              "2       0       0  \n",
              "3       0       0  \n",
              "4       0       0  "
            ],
            "text/html": [
              "\n",
              "  <div id=\"df-45b46dd7-8794-471f-8315-e49928175544\">\n",
              "    <div class=\"colab-df-container\">\n",
              "      <div>\n",
              "<style scoped>\n",
              "    .dataframe tbody tr th:only-of-type {\n",
              "        vertical-align: middle;\n",
              "    }\n",
              "\n",
              "    .dataframe tbody tr th {\n",
              "        vertical-align: top;\n",
              "    }\n",
              "\n",
              "    .dataframe thead th {\n",
              "        text-align: right;\n",
              "    }\n",
              "</style>\n",
              "<table border=\"1\" class=\"dataframe\">\n",
              "  <thead>\n",
              "    <tr style=\"text-align: right;\">\n",
              "      <th></th>\n",
              "      <th>datetime</th>\n",
              "      <th>season</th>\n",
              "      <th>holiday</th>\n",
              "      <th>workingday</th>\n",
              "      <th>weather</th>\n",
              "      <th>temp</th>\n",
              "      <th>atemp</th>\n",
              "      <th>humidity</th>\n",
              "      <th>windspeed</th>\n",
              "      <th>casual</th>\n",
              "      <th>registered</th>\n",
              "      <th>count</th>\n",
              "      <th>year</th>\n",
              "      <th>month</th>\n",
              "      <th>day</th>\n",
              "      <th>hour</th>\n",
              "      <th>minute</th>\n",
              "      <th>second</th>\n",
              "    </tr>\n",
              "  </thead>\n",
              "  <tbody>\n",
              "    <tr>\n",
              "      <th>0</th>\n",
              "      <td>2011-01-01 00:00:00</td>\n",
              "      <td>1</td>\n",
              "      <td>0</td>\n",
              "      <td>0</td>\n",
              "      <td>1</td>\n",
              "      <td>9.84</td>\n",
              "      <td>14.395</td>\n",
              "      <td>81</td>\n",
              "      <td>0.0</td>\n",
              "      <td>3</td>\n",
              "      <td>13</td>\n",
              "      <td>16</td>\n",
              "      <td>2011</td>\n",
              "      <td>1</td>\n",
              "      <td>1</td>\n",
              "      <td>0</td>\n",
              "      <td>0</td>\n",
              "      <td>0</td>\n",
              "    </tr>\n",
              "    <tr>\n",
              "      <th>1</th>\n",
              "      <td>2011-01-01 01:00:00</td>\n",
              "      <td>1</td>\n",
              "      <td>0</td>\n",
              "      <td>0</td>\n",
              "      <td>1</td>\n",
              "      <td>9.02</td>\n",
              "      <td>13.635</td>\n",
              "      <td>80</td>\n",
              "      <td>0.0</td>\n",
              "      <td>8</td>\n",
              "      <td>32</td>\n",
              "      <td>40</td>\n",
              "      <td>2011</td>\n",
              "      <td>1</td>\n",
              "      <td>1</td>\n",
              "      <td>1</td>\n",
              "      <td>0</td>\n",
              "      <td>0</td>\n",
              "    </tr>\n",
              "    <tr>\n",
              "      <th>2</th>\n",
              "      <td>2011-01-01 02:00:00</td>\n",
              "      <td>1</td>\n",
              "      <td>0</td>\n",
              "      <td>0</td>\n",
              "      <td>1</td>\n",
              "      <td>9.02</td>\n",
              "      <td>13.635</td>\n",
              "      <td>80</td>\n",
              "      <td>0.0</td>\n",
              "      <td>5</td>\n",
              "      <td>27</td>\n",
              "      <td>32</td>\n",
              "      <td>2011</td>\n",
              "      <td>1</td>\n",
              "      <td>1</td>\n",
              "      <td>2</td>\n",
              "      <td>0</td>\n",
              "      <td>0</td>\n",
              "    </tr>\n",
              "    <tr>\n",
              "      <th>3</th>\n",
              "      <td>2011-01-01 03:00:00</td>\n",
              "      <td>1</td>\n",
              "      <td>0</td>\n",
              "      <td>0</td>\n",
              "      <td>1</td>\n",
              "      <td>9.84</td>\n",
              "      <td>14.395</td>\n",
              "      <td>75</td>\n",
              "      <td>0.0</td>\n",
              "      <td>3</td>\n",
              "      <td>10</td>\n",
              "      <td>13</td>\n",
              "      <td>2011</td>\n",
              "      <td>1</td>\n",
              "      <td>1</td>\n",
              "      <td>3</td>\n",
              "      <td>0</td>\n",
              "      <td>0</td>\n",
              "    </tr>\n",
              "    <tr>\n",
              "      <th>4</th>\n",
              "      <td>2011-01-01 04:00:00</td>\n",
              "      <td>1</td>\n",
              "      <td>0</td>\n",
              "      <td>0</td>\n",
              "      <td>1</td>\n",
              "      <td>9.84</td>\n",
              "      <td>14.395</td>\n",
              "      <td>75</td>\n",
              "      <td>0.0</td>\n",
              "      <td>0</td>\n",
              "      <td>1</td>\n",
              "      <td>1</td>\n",
              "      <td>2011</td>\n",
              "      <td>1</td>\n",
              "      <td>1</td>\n",
              "      <td>4</td>\n",
              "      <td>0</td>\n",
              "      <td>0</td>\n",
              "    </tr>\n",
              "  </tbody>\n",
              "</table>\n",
              "</div>\n",
              "      <button class=\"colab-df-convert\" onclick=\"convertToInteractive('df-45b46dd7-8794-471f-8315-e49928175544')\"\n",
              "              title=\"Convert this dataframe to an interactive table.\"\n",
              "              style=\"display:none;\">\n",
              "        \n",
              "  <svg xmlns=\"http://www.w3.org/2000/svg\" height=\"24px\"viewBox=\"0 0 24 24\"\n",
              "       width=\"24px\">\n",
              "    <path d=\"M0 0h24v24H0V0z\" fill=\"none\"/>\n",
              "    <path d=\"M18.56 5.44l.94 2.06.94-2.06 2.06-.94-2.06-.94-.94-2.06-.94 2.06-2.06.94zm-11 1L8.5 8.5l.94-2.06 2.06-.94-2.06-.94L8.5 2.5l-.94 2.06-2.06.94zm10 10l.94 2.06.94-2.06 2.06-.94-2.06-.94-.94-2.06-.94 2.06-2.06.94z\"/><path d=\"M17.41 7.96l-1.37-1.37c-.4-.4-.92-.59-1.43-.59-.52 0-1.04.2-1.43.59L10.3 9.45l-7.72 7.72c-.78.78-.78 2.05 0 2.83L4 21.41c.39.39.9.59 1.41.59.51 0 1.02-.2 1.41-.59l7.78-7.78 2.81-2.81c.8-.78.8-2.07 0-2.86zM5.41 20L4 18.59l7.72-7.72 1.47 1.35L5.41 20z\"/>\n",
              "  </svg>\n",
              "      </button>\n",
              "      \n",
              "  <style>\n",
              "    .colab-df-container {\n",
              "      display:flex;\n",
              "      flex-wrap:wrap;\n",
              "      gap: 12px;\n",
              "    }\n",
              "\n",
              "    .colab-df-convert {\n",
              "      background-color: #E8F0FE;\n",
              "      border: none;\n",
              "      border-radius: 50%;\n",
              "      cursor: pointer;\n",
              "      display: none;\n",
              "      fill: #1967D2;\n",
              "      height: 32px;\n",
              "      padding: 0 0 0 0;\n",
              "      width: 32px;\n",
              "    }\n",
              "\n",
              "    .colab-df-convert:hover {\n",
              "      background-color: #E2EBFA;\n",
              "      box-shadow: 0px 1px 2px rgba(60, 64, 67, 0.3), 0px 1px 3px 1px rgba(60, 64, 67, 0.15);\n",
              "      fill: #174EA6;\n",
              "    }\n",
              "\n",
              "    [theme=dark] .colab-df-convert {\n",
              "      background-color: #3B4455;\n",
              "      fill: #D2E3FC;\n",
              "    }\n",
              "\n",
              "    [theme=dark] .colab-df-convert:hover {\n",
              "      background-color: #434B5C;\n",
              "      box-shadow: 0px 1px 3px 1px rgba(0, 0, 0, 0.15);\n",
              "      filter: drop-shadow(0px 1px 2px rgba(0, 0, 0, 0.3));\n",
              "      fill: #FFFFFF;\n",
              "    }\n",
              "  </style>\n",
              "\n",
              "      <script>\n",
              "        const buttonEl =\n",
              "          document.querySelector('#df-45b46dd7-8794-471f-8315-e49928175544 button.colab-df-convert');\n",
              "        buttonEl.style.display =\n",
              "          google.colab.kernel.accessAllowed ? 'block' : 'none';\n",
              "\n",
              "        async function convertToInteractive(key) {\n",
              "          const element = document.querySelector('#df-45b46dd7-8794-471f-8315-e49928175544');\n",
              "          const dataTable =\n",
              "            await google.colab.kernel.invokeFunction('convertToInteractive',\n",
              "                                                     [key], {});\n",
              "          if (!dataTable) return;\n",
              "\n",
              "          const docLinkHtml = 'Like what you see? Visit the ' +\n",
              "            '<a target=\"_blank\" href=https://colab.research.google.com/notebooks/data_table.ipynb>data table notebook</a>'\n",
              "            + ' to learn more about interactive tables.';\n",
              "          element.innerHTML = '';\n",
              "          dataTable['output_type'] = 'display_data';\n",
              "          await google.colab.output.renderOutput(dataTable, element);\n",
              "          const docLink = document.createElement('div');\n",
              "          docLink.innerHTML = docLinkHtml;\n",
              "          element.appendChild(docLink);\n",
              "        }\n",
              "      </script>\n",
              "    </div>\n",
              "  </div>\n",
              "  "
            ]
          },
          "metadata": {},
          "execution_count": 555
        }
      ]
    },
    {
      "cell_type": "markdown",
      "source": [
        "자전거는 날씨가 좋은 날 많이 탄다.\n",
        "\n",
        "그래서,\n",
        "\n",
        "season, weather, windspeed, month, hour의 영향을 많이 받는다.\n",
        "\n",
        "그리고 쉬는 날 많이 탄다.\n",
        "\n",
        "workingday, holiday를 통해 확인해보겠다"
      ],
      "metadata": {
        "id": "vU9u9X1UVzik"
      }
    },
    {
      "cell_type": "markdown",
      "source": [
        "# X, y 컬럼 선택 및 train/test 데이터 분리"
      ],
      "metadata": {
        "id": "d2Wjb8_IieLF"
      }
    },
    {
      "cell_type": "code",
      "source": [
        "train = train[['datetime',\t'season',\t'holiday',\t'workingday',\t'weather',\t'temp',\t'atemp',\t'humidity',\t'windspeed',\t'casual',\t'registered',\t'count',\t'year',\t'month',\t'day',\t'hour',\t'minute',\t'second']]"
      ],
      "metadata": {
        "id": "HIB36MWwfUgh"
      },
      "execution_count": 556,
      "outputs": []
    },
    {
      "cell_type": "code",
      "source": [
        "X = train[['season', 'weather', 'windspeed', 'month', 'hour', 'workingday','holiday', 'temp', 'humidity']].values\n",
        "y = train['count'].values"
      ],
      "metadata": {
        "id": "8z-F6y--gaXz"
      },
      "execution_count": 557,
      "outputs": []
    },
    {
      "cell_type": "code",
      "source": [
        "X.shape, y.shape"
      ],
      "metadata": {
        "colab": {
          "base_uri": "https://localhost:8080/"
        },
        "id": "nTECpXxrtPfJ",
        "outputId": "fee95121-7a92-4c3f-bd13-1efa7504a0be"
      },
      "execution_count": 578,
      "outputs": [
        {
          "output_type": "execute_result",
          "data": {
            "text/plain": [
              "((10886, 9), (10886,))"
            ]
          },
          "metadata": {},
          "execution_count": 578
        }
      ]
    },
    {
      "cell_type": "code",
      "source": [
        "from sklearn.model_selection import train_test_split\n",
        "\n",
        "X_train, X_test, y_train, y_test = train_test_split(X, y, test_size = 0.2, random_state=42)\n",
        "\n",
        "print(X_train.shape, y_train.shape)\n",
        "print(X_test.shape, y_test.shape)"
      ],
      "metadata": {
        "colab": {
          "base_uri": "https://localhost:8080/"
        },
        "id": "O0TbsQw4hcvJ",
        "outputId": "fadfc10b-523d-436c-86dc-38fe1ea8b4a0"
      },
      "execution_count": 558,
      "outputs": [
        {
          "output_type": "stream",
          "name": "stdout",
          "text": [
            "(8708, 9) (8708,)\n",
            "(2178, 9) (2178,)\n"
          ]
        }
      ]
    },
    {
      "cell_type": "markdown",
      "source": [
        "# LinearRegression 모델 학습"
      ],
      "metadata": {
        "id": "_ozSOd74iYD-"
      }
    },
    {
      "cell_type": "code",
      "source": [
        "from sklearn.linear_model import LinearRegression\n",
        "\n",
        "model = LinearRegression()"
      ],
      "metadata": {
        "id": "cjCoTnuehtXz"
      },
      "execution_count": 559,
      "outputs": []
    },
    {
      "cell_type": "code",
      "source": [
        "model.fit(X_train, y_train)"
      ],
      "metadata": {
        "colab": {
          "base_uri": "https://localhost:8080/"
        },
        "id": "LDc_B8r1hvjt",
        "outputId": "b11f180c-92b7-43ea-ac6d-fe07cb009ef1"
      },
      "execution_count": 560,
      "outputs": [
        {
          "output_type": "execute_result",
          "data": {
            "text/plain": [
              "LinearRegression()"
            ]
          },
          "metadata": {},
          "execution_count": 560
        }
      ]
    },
    {
      "cell_type": "markdown",
      "source": [
        "# 학습된 모델로 X_test에 대한 예측값 출력 및 손실함수값 계산"
      ],
      "metadata": {
        "id": "z8ddG_gAiMYz"
      }
    },
    {
      "cell_type": "code",
      "source": [
        "predictions = model.predict(X_test)\n",
        "predictions"
      ],
      "metadata": {
        "colab": {
          "base_uri": "https://localhost:8080/"
        },
        "id": "SiRl9GK7hxZP",
        "outputId": "5c68b95b-1ce5-4184-da70-1014ab5367af"
      },
      "execution_count": 561,
      "outputs": [
        {
          "output_type": "execute_result",
          "data": {
            "text/plain": [
              "array([285.57644836,   4.52618023, 245.8649291 , ..., 267.6451673 ,\n",
              "        -5.18173996, 202.29629079])"
            ]
          },
          "metadata": {},
          "execution_count": 561
        }
      ]
    },
    {
      "cell_type": "code",
      "source": [
        "from sklearn.metrics import mean_squared_error\n",
        "\n",
        "mse = mean_squared_error(y_test, predictions)\n",
        "mse"
      ],
      "metadata": {
        "colab": {
          "base_uri": "https://localhost:8080/"
        },
        "id": "lJbP4a-Qhzcr",
        "outputId": "e767195c-e01b-4225-b264-a569ff8b843a"
      },
      "execution_count": 562,
      "outputs": [
        {
          "output_type": "execute_result",
          "data": {
            "text/plain": [
              "21675.754760414027"
            ]
          },
          "metadata": {},
          "execution_count": 562
        }
      ]
    },
    {
      "cell_type": "code",
      "source": [
        "# rmse\n",
        "\n",
        "RMSE = mse ** 0.5\n",
        "RMSE"
      ],
      "metadata": {
        "colab": {
          "base_uri": "https://localhost:8080/"
        },
        "id": "eVMLY8jxjBRm",
        "outputId": "04a8f084-55be-4404-c9eb-27cb93792d83"
      },
      "execution_count": 579,
      "outputs": [
        {
          "output_type": "execute_result",
          "data": {
            "text/plain": [
              "147.22688192179453"
            ]
          },
          "metadata": {},
          "execution_count": 579
        }
      ]
    },
    {
      "cell_type": "markdown",
      "source": [
        "# x축은 temp 또는 humidity로, y축은 count로 예측 결과 시각화하기\n"
      ],
      "metadata": {
        "id": "CCMQlUPXrrJU"
      }
    },
    {
      "cell_type": "code",
      "source": [
        "# 참고 https://jimmy-ai.tistory.com/37 "
      ],
      "metadata": {
        "id": "HyrNbXDYrujU"
      },
      "execution_count": null,
      "outputs": []
    },
    {
      "cell_type": "code",
      "source": [
        "plt.figure(figsize=(10,6))\n",
        "\n",
        "plt.scatter(train['temp'], # x축\n",
        "            train['count'], # y축\n",
        "            c = 'green', # 색깔(고정)\n",
        "            alpha = 0.5) # 투명도\n",
        "\n",
        "plt.xlabel('temp', size = 12)\n",
        "plt.ylabel('count', size = 12)\n",
        "plt.title('bike sharing bubble chart', size = 15)\n",
        "plt.show()"
      ],
      "metadata": {
        "colab": {
          "base_uri": "https://localhost:8080/",
          "height": 409
        },
        "id": "wIc-_r6kh1Oy",
        "outputId": "48a42b18-ef9c-449b-cf13-2937b3bf2b93"
      },
      "execution_count": 576,
      "outputs": [
        {
          "output_type": "display_data",
          "data": {
            "text/plain": [
              "<Figure size 720x432 with 1 Axes>"
            ],
            "image/png": "[encoded data removed]"
          },
          "metadata": {
            "needs_background": "light"
          }
        }
      ]
    },
    {
      "cell_type": "code",
      "source": [
        "plt.figure(figsize=(10,6))\n",
        "\n",
        "plt.scatter(train['humidity'], # x축\n",
        "            train['count'], # y축\n",
        "            c = 'red', # 색깔(고정)\n",
        "            alpha = 0.5) # 투명도\n",
        "\n",
        "plt.xlabel('humidity', size = 12)\n",
        "plt.ylabel('count', size = 12)\n",
        "plt.title('bike sharing bubble chart', size = 15)\n",
        "plt.show()"
      ],
      "metadata": {
        "colab": {
          "base_uri": "https://localhost:8080/",
          "height": 409
        },
        "id": "-83rX4fkm1Th",
        "outputId": "7e6f79a9-4fa1-47c3-aebb-9c4972e49802"
      },
      "execution_count": 577,
      "outputs": [
        {
          "output_type": "display_data",
          "data": {
            "text/plain": [
              "<Figure size 720x432 with 1 Axes>"
            ],
            "image/png": "[encoded data removed]"
          },
          "metadata": {
            "needs_background": "light"
          }
        }
      ]
    },
    {
      "cell_type": "markdown",
      "source": [
        "# 회고"
      ],
      "metadata": {
        "id": "QfE6aVDExdXu"
      }
    },
    {
      "cell_type": "markdown",
      "source": [
        "당뇨수치\n",
        "\n",
        "노드에서 배운 함수를 이용해서 프로젝트를 완성해나갔다. 다음부터는 라이브러리에 지정 되어 있는 함수를 쓴다는 생각에 이걸 왜 구현하는 함수를 직접 만들어내야 되는 지 불평을 했다. 하지만 프로젝트를 완성하는 무렵 생각이 역전됐다. 확실한 이해를 바탕으로 함수에 접근하니 실 사용 때도 도움이 많으 될 거 같다.\n",
        "\n",
        "\n",
        "하이퍼 파라미터에서 애를 먹었다. 처음, 0.0001의 숫자를 넣었을 때, 그래프는 정말 어처구니 없었다. 아무 패턴이 없는 train 값에 일정한 패턴이 있는 test 값... 틀린 데이터 설정임을 직감했다. 그래서 최적의 수치를 찾기 위해 여러 차례 시도했다. 그리고 내가 찾은 최고의 수는 0.2이었다. mse 오류 값도 예상 보다 낮게 나오고, 무엇보다 시각적으로 보이는 손실함수 그래프가 이뻤다. 또한, 정답 데이터 점에 예측 데이터 점이 가까워 있는 모습이 희열감을 준다.\n",
        "\n",
        "자전거\n",
        "\n",
        "캐글필사랑 같은 내용을 다루고 있는 거라, 만만하게 봤다. 필사는 주말에 끝냈기 때문에, 모든 것을 완벽하게 이해했다고 생각했다. 하지만, 달랐다 ㅠㅠ 혼자 데이터 셋을 구상하고, 코드로 구현하려고 하니 만만치 않았다. \n",
        "\n",
        "특히, train-test split를 함수 사용 없이, 구현하려다 피봤다. 데이터 셋 갯수가 맞지 않아, 계속 오류가 났다.컬럼을 지워 보기도 하고, 임의적으로 숫자를 조절해봤지만 결국 숫자는 통일되지 않앗다. 노드에서 가르쳐준 것이 아닌, 나만의 방식으로 더 좋은 코드를 가지고 오기 위해 노력했지만 실패했다. 다음에 기회가 된다면 다시 수정해보고 싶다.\n",
        "그래도 교훈은 있다. 잘 만들어진 라이브러리는 'God'이다. \n",
        "\n",
        "이번 exploration은 혼자 다양한 그래프를 구사해볼 수 있는 좋은 기회였다. 시각화를 많이 하니, 약간의 딥러닝 고수가 된 거 같다. 좋은 기회였고, 더 좋은 개발자가 되고 싶다고 다짐한다.\n"
      ],
      "metadata": {
        "id": "5MlgZvZ0xgb-"
      }
    }
  ]
}